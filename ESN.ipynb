{
 "cells": [
  {
   "cell_type": "code",
   "execution_count": 1,
   "metadata": {},
   "outputs": [],
   "source": [
    "import torch\n",
    "import torch.nn as nn\n",
    "import torch.nn.functional as F\n",
    "from random import random\n",
    "import torchvision\n",
    "import torchvision.transforms as transforms\n",
    "import torchvision.datasets as datasets\n",
    "import torch.optim as optim\n",
    "import time\n",
    "import matplotlib.pyplot as plt\n",
    "import numpy as np"
   ]
  },
  {
   "cell_type": "code",
   "execution_count": 2,
   "metadata": {},
   "outputs": [],
   "source": [
    "class Reservoir():\n",
    "\n",
    "    \"\"\"\n",
    "    Parameters:\n",
    "        input_size = input dimension\n",
    "        hidden_size = number of internal (hidden) units in the reservoir\n",
    "        sparsity = percentage of elements in W_in equal to zero\n",
    "        spectral_radius = maximal absolute eigenvalue of matrix (W)*\n",
    "        a = input scaling (of W_in) (how \"nonlinear\" reservoir responses are)*\n",
    "        leak = leaking rate (speed of reservoir update dynamics over time)*\n",
    "    \"\"\"\n",
    "    def __init__(self, input_size, hidden_size = 10000, sparsity = 0.9, \n",
    "        spectral_radius = 0.99, a = 0.6, leak = 1.0):\n",
    "        self.input_size = input_size\n",
    "        self.hidden_size = hidden_size\n",
    "        self.sparsity = sparsity\n",
    "        self.spectral_radius = spectral_radius\n",
    "        self.a = a\n",
    "        self.leak = leak\n",
    "        #self.w_in = self.gen_w_in()\n",
    "        #self.w = self.gen_w()\n",
    "        self.w_in = torch.load('w_in_10k.pt')\n",
    "        self.w = torch.load('w_10k.pt')\n",
    "        self.x = torch.zeros(self.hidden_size, 1)\n",
    "  \n",
    "    # [gen_w_in] generates random input weight matrix, [w_in], of size \n",
    "    # [hidden_size x input + 1], with values normally distributed around zero. \n",
    "    def gen_w_in(self):\n",
    "        w_in = torch.randn(self.hidden_size, self.input_size+1).normal_(mean=0.0, std=0.6)\n",
    "        torch.save(w_in, 'w_in_10k.pt') # save w_in\n",
    "        return w_in\n",
    "\n",
    "    # [gen_w] generates the internal weight matrix, [w], of size \n",
    "    # [hidden_size x hidden_size]. [w] is generated sparse with nonzero elements \n",
    "    # having a normal distribution centered around zero.\n",
    "    def gen_w(self):\n",
    "        w = torch.randn(self.hidden_size, self.hidden_size).normal_(mean=0.0, std=0.6)\n",
    "        for i in range(w.shape[0]): \n",
    "            for j in range(w[0].shape[0]):\n",
    "                if random() <= self.sparsity:\n",
    "                    w[i][j] = 0\n",
    "        eigenvalues = torch.eig(w)[0]\n",
    "        eig_max = torch.max(eigenvalues).item()\n",
    "        w *= self.spectral_radius / eig_max\n",
    "        torch.save(w, 'w_10k.pt') # save w\n",
    "        return w\n",
    "  \n",
    "    # [forward_reservoir] updates and returns the state representation [x] \n",
    "    # for given input [u]. \n",
    "    def forward_reservoir(self, u, current_x):\n",
    "        temp_state = torch.tanh(torch.mm(self.w_in, \n",
    "        torch.cat((torch.tensor([[1.0]]),u),0)) + torch.mm(self.w, current_x))\n",
    "        new_state = (1-self.leak) * current_x + self.leak * temp_state\n",
    "        self.x = new_state\n",
    "        return new_state"
   ]
  },
  {
   "cell_type": "code",
   "execution_count": 3,
   "metadata": {},
   "outputs": [],
   "source": [
    "class ESN(nn.Module): \n",
    "\n",
    "    def __init__(self, input_size, output_size, hidden_size = 10000):\n",
    "        super().__init__()\n",
    "        self.reservoir = Reservoir(input_size, hidden_size)\n",
    "        # self.reservoir2 = Reservoir(hidden_size, hidden_size)\n",
    "        # self.reservoir3 = Reservoir(hidden_size, hidden_size)\n",
    "        self.fc = nn.Linear(in_features=hidden_size, \n",
    "        out_features=output_size)  # linear layer\n",
    "        # normalize resultant vector into probability distribution\n",
    "        self.softmax = nn.Softmax(dim=-1)\n",
    "        self.calls = 1 \n",
    "\n",
    "    # pass in 1 x 28 x 28 image\n",
    "    def forward(self, inp):\n",
    "        u = inp.flatten() # flatten image into single vector\n",
    "        u = u.unsqueeze(dim=0).t() # transpose to desired input shape for reservoir\n",
    "        x_r = self.reservoir.forward_reservoir(u, self.reservoir.x) # pass through reservoir\n",
    "        # if self.calls % len_data == (len_data-1):\n",
    "        #   torch.save(x_r, 'state_x_'+str(round(self.calls/len_data))+'.pt') # save state vector\n",
    "        # self.calls += 1\n",
    "        # x_r = self.reservoir2.forward_reservoir(x_r, self.reservoir.x) # pass through reservoir again\n",
    "        # x_r = self.reservoir3.forward_reservoir(x_r, self.reservoir.x) # pass through reservoir again\n",
    "        H = self.fc(x_r.t()) # pass transposed output x through linear layer\n",
    "        H_soft = self.softmax(H) # softmax\n",
    "        return H_soft"
   ]
  },
  {
   "cell_type": "code",
   "execution_count": 4,
   "metadata": {},
   "outputs": [],
   "source": [
    "transform = transforms.Compose(\n",
    "    [transforms.ToTensor(),\n",
    "     transforms.Normalize([0.5], [0.5])])\n",
    "\n",
    "trainset = torchvision.datasets.MNIST(root='./data', train=True,\n",
    "                                        download=True, transform=transform)\n",
    "trainloader = torch.utils.data.DataLoader(trainset, shuffle=True)\n",
    "\n",
    "testset = torchvision.datasets.MNIST(root='./data', train=False,\n",
    "                                       download=True, transform=transform)\n",
    "testloader = torch.utils.data.DataLoader(testset, shuffle=False)"
   ]
  },
  {
   "cell_type": "code",
   "execution_count": 5,
   "metadata": {},
   "outputs": [],
   "source": [
    "esn = ESN(784,10) # create instance (size 784 represents flattened 28x28 image)"
   ]
  },
  {
   "cell_type": "code",
   "execution_count": 6,
   "metadata": {},
   "outputs": [],
   "source": [
    "# Set parameters\n",
    "criterion = nn.CrossEntropyLoss()\n",
    "optimizer = optim.Adam(esn.parameters(), lr=1e-5)\n",
    "len_data = len(trainset)\n",
    "nsamples = 1000\n",
    "nepochs = 70\n",
    "loss_values = []\n",
    "esn = esn.float()"
   ]
  },
  {
   "cell_type": "code",
   "execution_count": 7,
   "metadata": {},
   "outputs": [],
   "source": [
    "# [train] trains the network\n",
    "def train():\n",
    "    start = time.time()\n",
    "    for epoch in range(nepochs):\n",
    "        running_loss = 0.0\n",
    "        for i, data in enumerate(trainset, 0):\n",
    "            if i > nsamples: \n",
    "                break\n",
    "            images, labels = data\n",
    "\n",
    "            # forward + backward + optimize\n",
    "            outputs = esn(images)\n",
    "            loss = criterion(outputs, torch.tensor([labels]))\n",
    "    \n",
    "            # zero the parameter gradients\n",
    "            optimizer.zero_grad()\n",
    "            loss.backward()\n",
    "            optimizer.step()\n",
    "\n",
    "            # print statistics\n",
    "            running_loss += loss.item()\n",
    "            if i % nsamples == (nsamples-1):  # print every epoch\n",
    "                print('epoch %d, loss: %.3f' % (epoch, running_loss/nsamples))\n",
    "                \n",
    "                loss_values.append(running_loss/nsamples)\n",
    "              \n",
    "                torch.save({\n",
    "                    'epoch': epoch,\n",
    "                    'model_state_dict': esn.state_dict(),\n",
    "                    'optimizer_state_dict': optimizer.state_dict(),\n",
    "                    'loss': running_loss/nsamples,\n",
    "                    }, '/Users/ryanhill/Desktop/Classical-RC/models/model_'+str(epoch))\n",
    "      \n",
    "    end = time.time()\n",
    "    print(\"Training complete\")\n",
    "    print(\"num samples = \" + str(nsamples))\n",
    "    print(\"num epochs = \" + str(nepochs))\n",
    "    print(\"total time = \" + str(end - start) + \" sec\")  # time in seconds\n",
    "    return"
   ]
  },
  {
   "cell_type": "code",
   "execution_count": 8,
   "metadata": {},
   "outputs": [],
   "source": [
    "# [test] evaluates the networks accuracy\n",
    "def test():\n",
    "    start = time.time()\n",
    "    correct = 0\n",
    "    total = 0\n",
    "    for i, data in enumerate(testset, 0):\n",
    "        if i > nsamples/4:\n",
    "            break\n",
    "        images, labels = data\n",
    "        pred = torch.argmax(esn(images)).item()\n",
    "        if pred == labels:\n",
    "            correct += 1\n",
    "        total += 1\n",
    "    correct = correct*100.0 / total\n",
    "    print(\"Testing complete\")\n",
    "    print(\"Accuracy: \" + str(correct) + \"%\")\n",
    "    end = time.time()\n",
    "    print(\"total time = \" + str(end - start) + \" sec\")  # time in seconds\n",
    "    return"
   ]
  },
  {
   "cell_type": "code",
   "execution_count": 9,
   "metadata": {
    "collapsed": true
   },
   "outputs": [
    {
     "name": "stdout",
     "output_type": "stream",
     "text": [
      "epoch 0, loss: 2.127\n",
      "epoch 1, loss: 1.887\n",
      "epoch 2, loss: 1.775\n",
      "epoch 3, loss: 1.722\n",
      "epoch 4, loss: 1.667\n",
      "epoch 5, loss: 1.636\n",
      "epoch 6, loss: 1.612\n",
      "epoch 7, loss: 1.593\n",
      "epoch 8, loss: 1.578\n",
      "epoch 9, loss: 1.565\n",
      "epoch 10, loss: 1.554\n",
      "epoch 11, loss: 1.544\n",
      "epoch 12, loss: 1.535\n",
      "epoch 13, loss: 1.528\n",
      "epoch 14, loss: 1.522\n",
      "epoch 15, loss: 1.517\n",
      "epoch 16, loss: 1.512\n",
      "epoch 17, loss: 1.508\n",
      "epoch 18, loss: 1.504\n",
      "epoch 19, loss: 1.500\n",
      "epoch 20, loss: 1.497\n",
      "epoch 21, loss: 1.494\n",
      "epoch 22, loss: 1.492\n",
      "epoch 23, loss: 1.490\n",
      "epoch 24, loss: 1.489\n",
      "epoch 25, loss: 1.487\n",
      "epoch 26, loss: 1.486\n",
      "epoch 27, loss: 1.485\n",
      "epoch 28, loss: 1.484\n",
      "epoch 29, loss: 1.483\n",
      "epoch 30, loss: 1.482\n",
      "epoch 31, loss: 1.481\n",
      "epoch 32, loss: 1.480\n",
      "epoch 33, loss: 1.479\n",
      "epoch 34, loss: 1.478\n",
      "epoch 35, loss: 1.478\n",
      "epoch 36, loss: 1.478\n",
      "epoch 37, loss: 1.477\n",
      "epoch 38, loss: 1.477\n",
      "epoch 39, loss: 1.476\n",
      "epoch 40, loss: 1.475\n",
      "epoch 41, loss: 1.475\n",
      "epoch 42, loss: 1.475\n",
      "epoch 43, loss: 1.474\n",
      "epoch 44, loss: 1.474\n",
      "epoch 45, loss: 1.474\n",
      "epoch 46, loss: 1.474\n",
      "epoch 47, loss: 1.473\n",
      "epoch 48, loss: 1.473\n",
      "epoch 49, loss: 1.472\n",
      "epoch 50, loss: 1.472\n",
      "epoch 51, loss: 1.472\n",
      "epoch 52, loss: 1.472\n",
      "epoch 53, loss: 1.472\n",
      "epoch 54, loss: 1.472\n",
      "epoch 55, loss: 1.472\n",
      "epoch 56, loss: 1.471\n",
      "epoch 57, loss: 1.470\n",
      "epoch 58, loss: 1.470\n",
      "epoch 59, loss: 1.470\n",
      "epoch 60, loss: 1.470\n",
      "epoch 61, loss: 1.470\n",
      "epoch 62, loss: 1.469\n",
      "epoch 63, loss: 1.469\n",
      "epoch 64, loss: 1.469\n",
      "epoch 65, loss: 1.469\n",
      "epoch 66, loss: 1.469\n",
      "epoch 67, loss: 1.469\n",
      "epoch 68, loss: 1.469\n",
      "epoch 69, loss: 1.469\n",
      "Training complete\n",
      "num samples = 1000\n",
      "num epochs = 70\n",
      "total time = 1785.0864210128784 sec\n"
     ]
    }
   ],
   "source": [
    "train()"
   ]
  },
  {
   "cell_type": "code",
   "execution_count": 10,
   "metadata": {},
   "outputs": [
    {
     "data": {
      "image/png": "[encoded data removed]",
      "text/plain": [
       "<Figure size 600x400 with 1 Axes>"
      ]
     },
     "metadata": {
      "needs_background": "light"
     },
     "output_type": "display_data"
    }
   ],
   "source": [
    "fig, ax = plt.subplots(dpi=100)\n",
    "ax.set_xlabel('Epoch')\n",
    "ax.set_ylabel('Loss')\n",
    "ax.plot(range(1, nepochs+1), loss_values, color='red')\n",
    "plt.savefig(\"Loss curve\")\n",
    "plt.show()"
   ]
  },
  {
   "cell_type": "code",
   "execution_count": 11,
   "metadata": {},
   "outputs": [
    {
     "name": "stdout",
     "output_type": "stream",
     "text": [
      "Testing complete\n",
      "Accuracy: 89.24302788844622%\n",
      "total time = 6.049371004104614 sec\n"
     ]
    }
   ],
   "source": [
    "test()"
   ]
  }
 ],
 "metadata": {
  "kernelspec": {
   "display_name": "Python 3",
   "language": "python",
   "name": "python3"
  },
  "language_info": {
   "codemirror_mode": {
    "name": "ipython",
    "version": 3
   },
   "file_extension": ".py",
   "mimetype": "text/x-python",
   "name": "python",
   "nbconvert_exporter": "python",
   "pygments_lexer": "ipython3",
   "version": "3.8.5"
  }
 },
 "nbformat": 4,
 "nbformat_minor": 4
}
